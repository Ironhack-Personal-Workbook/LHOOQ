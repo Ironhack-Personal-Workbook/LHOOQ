{
 "cells": [
  {
   "cell_type": "code",
   "execution_count": 245,
   "id": "6a33cc71",
   "metadata": {},
   "outputs": [],
   "source": [
    "#Previo, bibliotecas que necesito\n",
    "import numpy as np\n",
    "import pandas as pd \n",
    "import regex as re\n",
    "import requests as req\n",
    "from bs4 import BeautifulSoup as bs\n",
    "from tqdm.notebook import tqdm_notebook\n",
    "import time\n",
    "import json\n",
    "from selenium import webdriver"
   ]
  },
  {
   "cell_type": "code",
   "execution_count": 247,
   "id": "cdc3d75b",
   "metadata": {},
   "outputs": [],
   "source": [
    "import os\n",
    "from dotenv import load_dotenv"
   ]
  },
  {
   "cell_type": "code",
   "execution_count": 255,
   "id": "8a88e02e",
   "metadata": {},
   "outputs": [],
   "source": [
    "import warnings\n",
    "warnings.filterwarnings('ignore')"
   ]
  },
  {
   "cell_type": "code",
   "execution_count": 281,
   "id": "4487148e",
   "metadata": {},
   "outputs": [
    {
     "name": "stdout",
     "output_type": "stream",
     "text": [
      "Requirement already satisfied: webdriver-manager in /Users/lucia/opt/anaconda3/lib/python3.9/site-packages (3.7.0)\n",
      "Requirement already satisfied: python-dotenv in /Users/lucia/opt/anaconda3/lib/python3.9/site-packages (from webdriver-manager) (0.20.0)\n",
      "Requirement already satisfied: requests in /Users/lucia/opt/anaconda3/lib/python3.9/site-packages (from webdriver-manager) (2.26.0)\n",
      "Requirement already satisfied: urllib3<1.27,>=1.21.1 in /Users/lucia/opt/anaconda3/lib/python3.9/site-packages (from requests->webdriver-manager) (1.26.7)\n",
      "Requirement already satisfied: charset-normalizer~=2.0.0 in /Users/lucia/opt/anaconda3/lib/python3.9/site-packages (from requests->webdriver-manager) (2.0.4)\n",
      "Requirement already satisfied: certifi>=2017.4.17 in /Users/lucia/opt/anaconda3/lib/python3.9/site-packages (from requests->webdriver-manager) (2021.10.8)\n",
      "Requirement already satisfied: idna<4,>=2.5 in /Users/lucia/opt/anaconda3/lib/python3.9/site-packages (from requests->webdriver-manager) (3.2)\n",
      "Note: you may need to restart the kernel to use updated packages.\n",
      "\n"
     ]
    },
    {
     "name": "stderr",
     "output_type": "stream",
     "text": [
      "[WDM] - ====== WebDriver manager ======\n",
      "[WDM] - Current google-chrome version is 102.0.5005\n",
      "[WDM] - Get LATEST chromedriver version for 102.0.5005 google-chrome\n",
      "[WDM] - Driver [/Users/lucia/.wdm/drivers/chromedriver/mac64/102.0.5005.61/chromedriver] found in cache\n"
     ]
    }
   ],
   "source": [
    "%pip install webdriver-manager\n",
    "\n",
    "from webdriver_manager.chrome import ChromeDriverManager\n",
    "\n",
    "PATH=ChromeDriverManager().install()\n",
    "\n",
    "webdriver.Chrome(PATH).get('https://www.sothebys.com/en/results?from=&to=&f2=00000164-609b-d1db-a5e6-e9ff01230000&f2=00000164-609b-d1db-a5e6-e9ff08ab0000&f2=00000164-609b-d1db-a5e6-e9ff0b150000&f2=00000164-609a-d1db-a5e6-e9fff79f0000&f2=00000164-609b-d1db-a5e6-e9ff043c0000&f2=00000164-609a-d1db-a5e6-e9fffe5f0000&f2=00000164-609a-d1db-a5e6-e9ffff8d0000&f2=00000164-609b-d1db-a5e6-e9ff01850000&f2=00000164-609a-d1db-a5e6-e9fffdf80000&f2=00000164-609b-d1db-a5e6-e9ff0a800000&f2=00000164-609b-d1db-a5e6-e9ff00c20000&f2=00000164-609a-d1db-a5e6-e9fff35f0000&f2=00000164-609b-d1db-a5e6-e9ff06270000&f2=00000164-609a-d1db-a5e6-e9fff8660000&f2=00000164-609a-d1db-a5e6-e9fffffb0000&f2=00000164-609b-d1db-a5e6-e9ff08440000&f2=00000164-609b-d1db-a5e6-e9ff0ba60000&f2=00000164-609a-d1db-a5e6-e9fffd2c0000&f2=00000164-609a-d1db-a5e6-e9fff4890000&f2=00000164-609b-d1db-a5e6-e9ff07840000&f2=00000164-609a-d1db-a5e6-e9fffa760000&f2=00000164-609a-d1db-a5e6-e9fff4280000&f2=00000164-609a-d1db-a5e6-e9ffff270000&f2=00000164-609b-d1db-a5e6-e9ff07220000&f2=00000164-609b-d1db-a5e6-e9ff09100000&f2=00000164-609b-d1db-a5e6-e9ff055d0000&f2=00000164-609b-d1db-a5e6-e9ff05c00000&f2=00000164-f0d1-d221-a575-f2fda8e90000&f2=00000164-609b-d1db-a5e6-e9ff0a350000&f2=00000164-609b-d1db-a5e6-e9ff04fc0000&f2=00000164-609a-d1db-a5e6-e9fff8ca0000&f2=00000164-609b-d1db-a5e6-e9ff02b50000&f2=00000164-609b-d1db-a5e6-e9ff07e20000&f2=00000164-609a-d1db-a5e6-e9fffadc0000&f2=00000164-609a-d1db-a5e6-e9fff5b50000&f2=00000164-609a-d1db-a5e6-e9fff73c0000&f2=00000164-609b-d1db-a5e6-e9ff09a60000&f2=00000164-609a-d1db-a5e6-e9fffec40000&f2=00000164-609b-d1db-a5e6-e9ff095e0000&f2=00000164-609b-d1db-a5e6-e9ff0acd0000&f2=00000164-609a-d1db-a5e6-e9fff6150000&q=')"
   ]
  },
  {
   "cell_type": "code",
   "execution_count": 317,
   "id": "4d0caa1a",
   "metadata": {},
   "outputs": [],
   "source": [
    "from selenium.webdriver.chrome.options import Options\n",
    "opciones=Options()\n",
    "opciones.add_experimental_option('excludeSwitches', ['enable-automation'])\n",
    "opciones.add_experimental_option('useAutomationExtension', False)\n",
    "\n",
    "opciones.add_argument('user-data-dir=selenium')  #cookies"
   ]
  },
  {
   "cell_type": "code",
   "execution_count": 318,
   "id": "67bb4fcd",
   "metadata": {},
   "outputs": [],
   "source": [
    "url = 'https://www.sothebys.com/en/results'"
   ]
  },
  {
   "cell_type": "code",
   "execution_count": 319,
   "id": "4ac18b27",
   "metadata": {},
   "outputs": [],
   "source": [
    "driver=webdriver.Chrome(PATH)\n",
    "driver.get(url)\n",
    "\n"
   ]
  },
  {
   "cell_type": "code",
   "execution_count": null,
   "id": "451e9e11",
   "metadata": {},
   "outputs": [],
   "source": []
  },
  {
   "cell_type": "code",
   "execution_count": 320,
   "id": "76d4fb69",
   "metadata": {},
   "outputs": [],
   "source": [
    "#choice = driver.find_elements_by_class_name('Card-category')    #Hemos probado y no sale\n",
    "#choice\n",
    "\n",
    "#time.sleep(2)"
   ]
  },
  {
   "cell_type": "code",
   "execution_count": null,
   "id": "2a9e4b4d",
   "metadata": {},
   "outputs": [],
   "source": [
    "# vamos a usar scroll y obtenemos todas las categorias de golpe\n",
    "categorias = []\n",
    "driver.execute_script('window.scrollTo(0, document.body.scrollHeight);')   #Esto hace SCROLL. Puede tardar unos 6'\n",
    "sleep(0.5)\n",
    "\n",
    "choice = driver.find_elements_by_class_name('Card-category')\n",
    "print(len(choice))\n",
    "    "
   ]
  },
  {
   "cell_type": "code",
   "execution_count": 321,
   "id": "77fa10e3",
   "metadata": {},
   "outputs": [
    {
     "name": "stdout",
     "output_type": "stream",
     "text": [
      "CATEGORY:\n",
      "SELLING EXHIBITION\n",
      "CATEGORY:\n",
      "PAST AUCTION\n"
     ]
    }
   ],
   "source": [
    "choice = driver.find_elements_by_class_name('Card-category')\n",
    "\n",
    "\n",
    "for e in choice[:2]:\n",
    "    print(e.text)\n",
    "    \n",
    "\n"
   ]
  },
  {
   "cell_type": "code",
   "execution_count": 322,
   "id": "8681e1b7",
   "metadata": {},
   "outputs": [
    {
     "name": "stdout",
     "output_type": "stream",
     "text": [
      "Solange Azagury-Partridge\n",
      "Tea Treasures – Rare Vintage and Premium Puerh\n",
      "Mythical Wines: Rarities from the World’s Greatest Viney…\n",
      "The Domaine | DRC in OWC | Impeccable Provenance\n",
      "Henri Jayer | OWC | All From The Estate\n",
      "Fine Watches\n",
      "Gérald Genta: Icon of Time\n",
      "Un cabinet de curiosités bibliophiliques : de Dürer à Alechinsky\n",
      "40 for 40 | The Air Force 1 Collection\n",
      "Tomokazu Matsuyama: Harmless Charm\n",
      "The Hamptons\n",
      "The Yamazaki 55 | Japan’s Oldest Whisky\n",
      "Important Judaica\n",
      "Magnificent Jewels\n",
      "Arts d'Asie\n"
     ]
    }
   ],
   "source": [
    "title = driver.find_elements_by_class_name('Card-title')\n",
    "\n",
    "\n",
    "for e in title:\n",
    "    print(e.text)"
   ]
  },
  {
   "cell_type": "code",
   "execution_count": 323,
   "id": "a2a0c325",
   "metadata": {},
   "outputs": [
    {
     "name": "stdout",
     "output_type": "stream",
     "text": [
      "24–26 JUNE 2022 | EAST HAMPTON\n",
      "15–24 JUNE 2022 | 11:00 AM HKT | HONG KONG\n",
      "9–23 JUNE 2022 | 10:00 AM EDT | NEW YORK\n",
      "13–23 JUNE 2022 | 12:00 PM HKT | HONG KONG\n",
      "9–23 JUNE 2022 | 11:00 AM HKT | HONG KONG\n",
      "8–22 JUNE 2022 | 11:00 AM EDT | NEW YORK\n",
      "8–22 JUNE 2022 | 10:00 AM EDT | NEW YORK\n",
      "15–22 JUNE 2022 | 2:00 PM CEST | PARIS\n",
      "8–21 JUNE 2022 | 4:00 PM EDT | NEW YORK\n",
      "14–21 JUNE 2022 | HONG KONG\n",
      "24 MAY–19 JUNE 2022 | EAST HAMPTON\n",
      "1–17 JUNE 2022 | 10:00 AM EDT | NEW YORK\n",
      "7–16 JUNE 2022 | 2:00 PM EDT | NEW YORK\n",
      "16 JUNE 2022 | 10:00 AM EDT | NEW YORK\n",
      "16 JUNE 2022 | 10:30 AM CEST | PARIS\n"
     ]
    }
   ],
   "source": [
    "details = driver.find_elements_by_class_name('Card-details')\n",
    "\n",
    "\n",
    "for e in details:\n",
    "    print(e.text)"
   ]
  },
  {
   "cell_type": "code",
   "execution_count": 325,
   "id": "cf8a25c8",
   "metadata": {},
   "outputs": [
    {
     "name": "stdout",
     "output_type": "stream",
     "text": [
      "SALE TOTAL: 3,916,250 HKD\n",
      "SALE TOTAL: 592,574 USD\n",
      "SALE TOTAL: 5,068,750 HKD\n",
      "SALE TOTAL: 15,250,000 HKD\n",
      "SALE TOTAL: 2,893,716 USD\n",
      "SALE TOTAL: 360,234 USD\n",
      "SALE TOTAL: 2,591,064 EUR\n",
      "SALE TOTAL: 502,362 USD\n",
      "SALE TOTAL: 600,000 USD\n",
      "SALE TOTAL: 1,491,840 USD\n",
      "SALE TOTAL: 52,002,060 USD\n",
      "SALE TOTAL: 8,978,318 EUR\n",
      "SALE TOTAL: 18,964,890 USD\n",
      "SALE TOTAL: 1,233,036 EUR\n",
      "SALE TOTAL: 159,390 EUR\n",
      "SALE TOTAL: 5,854,590 USD\n",
      "SALE TOTAL: 2,952,188 GBP\n",
      "SALE TOTAL: 4,028,220 EUR\n",
      "SALE TOTAL: 2,358,720 CHF\n",
      "SALE TOTAL: 1,512,660 EUR\n",
      "SALE TOTAL: 2,283,750 USD\n",
      "SALE TOTAL: 98,800 USD\n",
      "SALE TOTAL: 3,880,422 USD\n",
      "SALE TOTAL: 5,147,982 EUR\n",
      "SALE TOTAL: 1,002,960 EUR\n",
      "SALE TOTAL: 22,448,788 USD\n"
     ]
    }
   ],
   "source": [
    "details = driver.find_elements_by_class_name('Card-salePrice')\n",
    "\n",
    "\n",
    "for e in details:\n",
    "    print(e.text)"
   ]
  },
  {
   "cell_type": "code",
   "execution_count": null,
   "id": "ce31e5c3",
   "metadata": {},
   "outputs": [],
   "source": []
  },
  {
   "cell_type": "code",
   "execution_count": 326,
   "id": "0742fae3",
   "metadata": {},
   "outputs": [
    {
     "data": {
      "text/plain": [
       "'\\nBORRAR TODA ESTA MIERDA\\nhttps://my.ironhack.com/cohorts/6160012680e2ee002cd7cb64/lms/courses/course-v1:IRONHACK+DAFT2+202205_MAD/modules/7c6a844badcd44d5803d14193f54d011/units/e5e78bd8161645c8aaae585d7b838403\\n\\n\\nKAGGLE MOMA.\\nhttps://www.kaggle.com/datasets/momanyc/museum-collection\\n'"
      ]
     },
     "execution_count": 326,
     "metadata": {},
     "output_type": "execute_result"
    }
   ],
   "source": [
    "'''\n",
    "BORRAR TODA ESTA MIERDA\n",
    "https://my.ironhack.com/cohorts/6160012680e2ee002cd7cb64/lms/courses/course-v1:IRONHACK+DAFT2+202205_MAD/modules/7c6a844badcd44d5803d14193f54d011/units/e5e78bd8161645c8aaae585d7b838403\n",
    "\n",
    "\n",
    "KAGGLE MOMA.\n",
    "https://www.kaggle.com/datasets/momanyc/museum-collection\n",
    "'''"
   ]
  },
  {
   "cell_type": "markdown",
   "id": "2d726886",
   "metadata": {},
   "source": [
    "## 1ª fuente: Sotherbys. Scrapping"
   ]
  },
  {
   "cell_type": "code",
   "execution_count": null,
   "id": "165e42c3",
   "metadata": {},
   "outputs": [],
   "source": [
    "#1, importar la url. No corre\n",
    "\n",
    "url='https://www.sothebys.com/en/results?from=&to=&f2=00000164-609b-d1db-a5e6-e9ff01230000&f2=00000164-609b-d1db-a5e6-e9ff08ab0000&f2=00000164-609b-d1db-a5e6-e9ff0b150000&f2=00000164-609a-d1db-a5e6-e9fff79f0000&f2=00000164-609b-d1db-a5e6-e9ff043c0000&f2=00000164-609a-d1db-a5e6-e9fffe5f0000&f2=00000164-609a-d1db-a5e6-e9ffff8d0000&f2=00000164-609b-d1db-a5e6-e9ff01850000&f2=00000164-609a-d1db-a5e6-e9fffdf80000&f2=00000164-609b-d1db-a5e6-e9ff0a800000&f2=00000164-609b-d1db-a5e6-e9ff00c20000&f2=00000164-609a-d1db-a5e6-e9fff35f0000&f2=00000164-609b-d1db-a5e6-e9ff06270000&f2=00000164-609a-d1db-a5e6-e9fff8660000&f2=00000164-609a-d1db-a5e6-e9fffffb0000&f2=00000164-609b-d1db-a5e6-e9ff08440000&f2=00000164-609b-d1db-a5e6-e9ff0ba60000&f2=00000164-609a-d1db-a5e6-e9fffd2c0000&f2=00000164-609a-d1db-a5e6-e9fff4890000&f2=00000164-609b-d1db-a5e6-e9ff07840000&f2=00000164-609a-d1db-a5e6-e9fffa760000&f2=00000164-609a-d1db-a5e6-e9fff4280000&f2=00000164-609a-d1db-a5e6-e9ffff270000&f2=00000164-609b-d1db-a5e6-e9ff07220000&f2=00000164-609b-d1db-a5e6-e9ff09100000&f2=00000164-609b-d1db-a5e6-e9ff055d0000&f2=00000164-609b-d1db-a5e6-e9ff05c00000&f2=00000164-f0d1-d221-a575-f2fda8e90000&f2=00000164-609b-d1db-a5e6-e9ff0a350000&f2=00000164-609b-d1db-a5e6-e9ff04fc0000&f2=00000164-609a-d1db-a5e6-e9fff8ca0000&f2=00000164-609b-d1db-a5e6-e9ff02b50000&f2=00000164-609b-d1db-a5e6-e9ff07e20000&f2=00000164-609a-d1db-a5e6-e9fffadc0000&f2=00000164-609a-d1db-a5e6-e9fff5b50000&f2=00000164-609a-d1db-a5e6-e9fff73c0000&f2=00000164-609b-d1db-a5e6-e9ff09a60000&f2=00000164-609a-d1db-a5e6-e9fffec40000&f2=00000164-609b-d1db-a5e6-e9ff095e0000&f2=00000164-609b-d1db-a5e6-e9ff0acd0000&f2=00000164-609a-d1db-a5e6-e9fff6150000&q='\n",
    "html=req.get(url).content\n",
    "html[:1000]\n",
    "\n",
    "'''\n",
    "urls:\n",
    "https://www.invaluable.com/search?supercategoryName=Fine%2520Art&upcoming=false&query=fine%2520art&keyword=fine%2520art\n",
    "\n",
    "SOTHERBYs\n",
    "https://www.sothebys.com/en/results?from=&to=&f2=00000164-609b-d1db-a5e6-e9ff01230000&f2=00000164-609b-d1db-a5e6-e9ff08ab0000&f2=00000164-609b-d1db-a5e6-e9ff0b150000&f2=00000164-609a-d1db-a5e6-e9fff79f0000&f2=00000164-609b-d1db-a5e6-e9ff043c0000&f2=00000164-609a-d1db-a5e6-e9fffe5f0000&f2=00000164-609a-d1db-a5e6-e9ffff8d0000&f2=00000164-609b-d1db-a5e6-e9ff01850000&f2=00000164-609a-d1db-a5e6-e9fffdf80000&f2=00000164-609b-d1db-a5e6-e9ff0a800000&f2=00000164-609b-d1db-a5e6-e9ff00c20000&f2=00000164-609a-d1db-a5e6-e9fff35f0000&f2=00000164-609b-d1db-a5e6-e9ff06270000&f2=00000164-609a-d1db-a5e6-e9fff8660000&f2=00000164-609a-d1db-a5e6-e9fffffb0000&f2=00000164-609b-d1db-a5e6-e9ff08440000&f2=00000164-609b-d1db-a5e6-e9ff0ba60000&f2=00000164-609a-d1db-a5e6-e9fffd2c0000&f2=00000164-609a-d1db-a5e6-e9fff4890000&f2=00000164-609b-d1db-a5e6-e9ff07840000&f2=00000164-609a-d1db-a5e6-e9fffa760000&f2=00000164-609a-d1db-a5e6-e9fff4280000&f2=00000164-609a-d1db-a5e6-e9ffff270000&f2=00000164-609b-d1db-a5e6-e9ff07220000&f2=00000164-609b-d1db-a5e6-e9ff09100000&f2=00000164-609b-d1db-a5e6-e9ff055d0000&f2=00000164-609b-d1db-a5e6-e9ff05c00000&f2=00000164-f0d1-d221-a575-f2fda8e90000&f2=00000164-609b-d1db-a5e6-e9ff0a350000&f2=00000164-609b-d1db-a5e6-e9ff04fc0000&f2=00000164-609a-d1db-a5e6-e9fff8ca0000&f2=00000164-609b-d1db-a5e6-e9ff02b50000&f2=00000164-609b-d1db-a5e6-e9ff07e20000&f2=00000164-609a-d1db-a5e6-e9fffadc0000&f2=00000164-609a-d1db-a5e6-e9fff5b50000&f2=00000164-609a-d1db-a5e6-e9fff73c0000&f2=00000164-609b-d1db-a5e6-e9ff09a60000&f2=00000164-609a-d1db-a5e6-e9fffec40000&f2=00000164-609b-d1db-a5e6-e9ff095e0000&f2=00000164-609b-d1db-a5e6-e9ff0acd0000&f2=00000164-609a-d1db-a5e6-e9fff6150000&q=\n",
    "\n",
    "'''"
   ]
  },
  {
   "cell_type": "code",
   "execution_count": null,
   "id": "e2be1d3a",
   "metadata": {},
   "outputs": [],
   "source": [
    "#url = 'https://www.invaluable.com/search?supercategoryName=Fine%2520Art&upcoming=false&query=fine%2520art&keyword=fine%2520art'\n",
    "#html=req.get(url).content\n",
    "#html[:1000]"
   ]
  },
  {
   "cell_type": "code",
   "execution_count": null,
   "id": "2c54a3f8",
   "metadata": {},
   "outputs": [],
   "source": []
  },
  {
   "cell_type": "markdown",
   "id": "488e7b46",
   "metadata": {},
   "source": [
    "## 2ª fuente: Behance. API"
   ]
  },
  {
   "cell_type": "code",
   "execution_count": null,
   "id": "0b2ad53c",
   "metadata": {},
   "outputs": [],
   "source": [
    "resp = req.get('https://github.com/aravenel/behance_python')\n",
    "resp   #Da 200! \n"
   ]
  },
  {
   "cell_type": "code",
   "execution_count": null,
   "id": "df10dd62",
   "metadata": {},
   "outputs": [],
   "source": [
    "resp.text[:1000]"
   ]
  },
  {
   "cell_type": "code",
   "execution_count": null,
   "id": "330092ee",
   "metadata": {},
   "outputs": [],
   "source": [
    "resp.headers"
   ]
  },
  {
   "cell_type": "code",
   "execution_count": null,
   "id": "2fe47baa",
   "metadata": {},
   "outputs": [],
   "source": [
    "resp.json"
   ]
  },
  {
   "cell_type": "code",
   "execution_count": null,
   "id": "f5f0de0a",
   "metadata": {},
   "outputs": [],
   "source": []
  },
  {
   "cell_type": "code",
   "execution_count": null,
   "id": "19e689b2",
   "metadata": {},
   "outputs": [],
   "source": [
    "moma = req.get('https://api.moma.org/Help/Api/GET-api-artists_search_token')\n",
    "moma"
   ]
  },
  {
   "cell_type": "code",
   "execution_count": null,
   "id": "fcbb514a",
   "metadata": {},
   "outputs": [],
   "source": [
    "moma.text[:500]"
   ]
  },
  {
   "cell_type": "code",
   "execution_count": null,
   "id": "308919f8",
   "metadata": {},
   "outputs": [],
   "source": [
    "data = pd.DataFrame(moma)\n",
    "data.info()"
   ]
  },
  {
   "cell_type": "code",
   "execution_count": null,
   "id": "e1ef01dd",
   "metadata": {},
   "outputs": [],
   "source": [
    "moma.json"
   ]
  },
  {
   "cell_type": "code",
   "execution_count": null,
   "id": "8159436f",
   "metadata": {},
   "outputs": [],
   "source": [
    "moma.headers\n"
   ]
  },
  {
   "cell_type": "code",
   "execution_count": null,
   "id": "6b597d42",
   "metadata": {},
   "outputs": [],
   "source": [
    "response.json()['data'][0]['title_english']"
   ]
  },
  {
   "cell_type": "code",
   "execution_count": null,
   "id": "89b7ed68",
   "metadata": {},
   "outputs": [],
   "source": []
  },
  {
   "cell_type": "code",
   "execution_count": null,
   "id": "793a2890",
   "metadata": {},
   "outputs": [],
   "source": []
  },
  {
   "cell_type": "code",
   "execution_count": null,
   "id": "bbab85a7",
   "metadata": {},
   "outputs": [],
   "source": []
  },
  {
   "cell_type": "markdown",
   "id": "6763f51d",
   "metadata": {},
   "source": [
    "## 3ª fuente: MoMa? "
   ]
  },
  {
   "cell_type": "code",
   "execution_count": null,
   "id": "a20c13b6",
   "metadata": {},
   "outputs": [],
   "source": []
  },
  {
   "cell_type": "code",
   "execution_count": null,
   "id": "68cbe33f",
   "metadata": {},
   "outputs": [],
   "source": []
  }
 ],
 "metadata": {
  "kernelspec": {
   "display_name": "Python 3 (ipykernel)",
   "language": "python",
   "name": "python3"
  },
  "language_info": {
   "codemirror_mode": {
    "name": "ipython",
    "version": 3
   },
   "file_extension": ".py",
   "mimetype": "text/x-python",
   "name": "python",
   "nbconvert_exporter": "python",
   "pygments_lexer": "ipython3",
   "version": "3.9.7"
  }
 },
 "nbformat": 4,
 "nbformat_minor": 5
}
